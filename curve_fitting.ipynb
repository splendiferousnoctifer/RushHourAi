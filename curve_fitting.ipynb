{
  "nbformat": 4,
  "nbformat_minor": 0,
  "metadata": {
    "colab": {
      "name": "curve_fitting",
      "provenance": [],
      "collapsed_sections": [],
      "mount_file_id": "19rndesy1r1cmKerd_FBmRGS8b7UZiqeD",
      "authorship_tag": "ABX9TyPrmSGuhK9spUMp8uHVrqq5"
    },
    "kernelspec": {
      "name": "python3",
      "display_name": "Python 3"
    },
    "language_info": {
      "name": "python"
    }
  },
  "cells": [
    {
      "cell_type": "code",
      "source": [
        "import math\n",
        "import numpy as np\n",
        "import scipy.linalg\n",
        "import matplotlib.pyplot as plt\n",
        "from scipy.optimize import curve_fit\n",
        "from scipy.optimize import minimize\n",
        "from scipy.interpolate import interp1d\n",
        "from mpl_toolkits.mplot3d import Axes3D\n",
        "np.set_printoptions(suppress=True) # don't use scientific notation\n"
      ],
      "metadata": {
        "id": "RKLNWfR9ROxm"
      },
      "execution_count": null,
      "outputs": []
    },
    {
      "cell_type": "markdown",
      "source": [
        "#Curve fitting\n"
      ],
      "metadata": {
        "id": "JbVzbAegpVKA"
      }
    },
    {
      "cell_type": "code",
      "source": [
        "# Define the Gaussian function\n",
        "def Gauss(x, A, B):\n",
        "    y = A*np.exp(-1*B*x**2)\n",
        "    return y\n"
      ],
      "metadata": {
        "id": "XHISi_1AYapF"
      },
      "execution_count": null,
      "outputs": []
    },
    {
      "cell_type": "code",
      "execution_count": null,
      "metadata": {
        "colab": {
          "base_uri": "https://localhost:8080/",
          "height": 175
        },
        "id": "x6YgtnO9RG86",
        "outputId": "f5806db7-eebe-4ac9-c5ec-c69d06b1d558"
      },
      "outputs": [
        {
          "output_type": "stream",
          "name": "stdout",
          "text": [
            "[1.57146952, 4.16665826, 7.89363503, 16.00373932, 7.41424006, 3.4188344, 1.72830558]\n"
          ]
        },
        {
          "output_type": "display_data",
          "data": {
            "text/plain": [
              "<Figure size 1224x144 with 1 Axes>"
            ],
            "image/png": "[encoded data removed]"
          },
          "metadata": {
            "needs_background": "light"
          }
        }
      ],
      "source": [
        "xdata = np.linspace(-3,3,7)\n",
        "ydata = [ 1.57146952,  4.16665826,  7.89363503, 16.00373932,  7.41424006,  3.4188344,  1.72830558]\n",
        "#ydata = [1.25819152, 3.48870426, 6.06803503, 7.92524632, 5.88581506, 2.8635734, 1.51751658]\n",
        "\n",
        "f = interp1d(xdata, ydata, kind='linear')\n",
        "\n",
        "x = np.linspace(-3,3,100)\n",
        "\n",
        "\n",
        "#mean = sum(x * f(x))\n",
        "#sigma = sum(f(x) * (x - mean)**2)\n",
        "  \n",
        "\n",
        "parameters, covariance = curve_fit(Gauss, x, f(x))#, p0 = [1, mean, sigma])\n",
        "  \n",
        "\n",
        "fit_A = parameters[0]\n",
        "fit_B = parameters[1]\n",
        "  \n",
        "fit_y = Gauss(x, fit_A, fit_B)\n",
        "\n",
        "plt.figure(figsize=(17,2))\n",
        "plt.plot(xdata, ydata, 'o', label='orig')\n",
        "\n",
        "plt.plot(x, f(x), '--', label='interp-data')\n",
        "\n",
        "plt.plot(x, fit_y, '-', label='fit')\n",
        "plt.legend()\n",
        "print(ydata)\n"
      ]
    },
    {
      "cell_type": "markdown",
      "source": [
        "# Minimze\n"
      ],
      "metadata": {
        "id": "fJiL7W4xpXk7"
      }
    },
    {
      "cell_type": "code",
      "source": [
        "data = np.load('/content/drive/MyDrive/mil/data/analytics/data.npy')\n",
        "#124345 #peak\n",
        "#160386 #flat"
      ],
      "metadata": {
        "id": "JhWUefWqpZeB"
      },
      "execution_count": null,
      "outputs": []
    },
    {
      "cell_type": "code",
      "source": [
        "LENGTH = np.linalg.norm(data[160386,3,0,:] - data[160386,3,6,:])\n",
        "def f(p, a, b, a_, b_):\n",
        "  h = np.sqrt(np.square(b) - np.square(a))\n",
        "  h_ = np.sqrt(np.square(b_) - np.square(a_))\n",
        "  delta = h_/a_ * LENGTH\n",
        "\n",
        "  err = (h/a * p[0]) - p[1]\n",
        "  err_ = -1 * (h_/a_ * p[0]) + delta - p[1]\n",
        "  return np.average(err + err_)"
      ],
      "metadata": {
        "id": "OpDDshUeqYcv"
      },
      "execution_count": null,
      "outputs": []
    },
    {
      "cell_type": "code",
      "source": [
        "a = np.linalg.norm(data[160386,3,0,:] - data[160386,3,1,:])\n",
        "b = np.linalg.norm(data[124345,3,0,:] - data[124345,3,1,:])\n",
        "a_ = np.linalg.norm(data[160386,3,5,:] - data[160386,3,6,:])\n",
        "b_ = np.linalg.norm(data[124345,3,5,:] - data[124345,3,6,:])\n",
        "\n",
        "print(a, b, a_, b_)"
      ],
      "metadata": {
        "colab": {
          "base_uri": "https://localhost:8080/"
        },
        "id": "CapaDBZh8gWJ",
        "outputId": "13e0a45c-d82c-46b5-ae93-1dba9f26918b"
      },
      "execution_count": null,
      "outputs": [
        {
          "output_type": "stream",
          "name": "stdout",
          "text": [
            "16.81043461342942 17.161611799241175 18.845048686236524 19.085484817594637\n"
          ]
        }
      ]
    },
    {
      "cell_type": "code",
      "source": [
        "#Calculate x and y of pressure point\n",
        "h = math.sqrt(b**2 - a**2)\n",
        "h_ = math.sqrt(b_**2 - a_**2)\n",
        "x = (h_ * LENGTH) / (h_ + h)\n",
        "y = h/a*x\n",
        "\n",
        "print(x,y)\n"
      ],
      "metadata": {
        "colab": {
          "base_uri": "https://localhost:8080/"
        },
        "id": "QwqrAfB3uXyC",
        "outputId": "f207db37-4a53-4b89-9381-aee733bf7cb7"
      },
      "execution_count": null,
      "outputs": [
        {
          "output_type": "stream",
          "name": "stdout",
          "text": [
            "51.69202905426842 10.621079008883012\n"
          ]
        }
      ]
    },
    {
      "cell_type": "code",
      "source": [
        "minimize(f, (LENGTH/2,10), args=(a,b,a_,b_))"
      ],
      "metadata": {
        "colab": {
          "base_uri": "https://localhost:8080/"
        },
        "id": "JwCu2oi7WBH_",
        "outputId": "20f361f3-e002-455e-d99d-44eff331ebd4"
      },
      "execution_count": null,
      "outputs": [
        {
          "output_type": "execute_result",
          "data": {
            "text/plain": [
              "      fun: -2068.7451713238543\n",
              " hess_inv: array([[-2.80149823e+06,  1.23908819e+08],\n",
              "       [ 1.23908819e+08, -5.48042106e+09]])\n",
              "      jac: array([ 0.04522705, -2.        ])\n",
              "  message: 'Desired error not necessarily achieved due to precision loss.'\n",
              "     nfev: 348\n",
              "      nit: 1\n",
              "     njev: 112\n",
              "   status: 2\n",
              "  success: False\n",
              "        x: array([  32.02977217, 1043.97575843])"
            ]
          },
          "metadata": {},
          "execution_count": 127
        }
      ]
    },
    {
      "cell_type": "code",
      "source": [
        "f((x,y), a, b, a_, b_)"
      ],
      "metadata": {
        "colab": {
          "base_uri": "https://localhost:8080/"
        },
        "id": "-Ahu3OeK4lY9",
        "outputId": "6bd4a34b-5c2e-4aac-d482-7df7709d23f4"
      },
      "execution_count": null,
      "outputs": [
        {
          "output_type": "execute_result",
          "data": {
            "text/plain": [
              "-1.1467095245899923"
            ]
          },
          "metadata": {},
          "execution_count": 125
        }
      ]
    },
    {
      "cell_type": "code",
      "source": [
        "popt, _ = curve_fit(f,[a]*100,[b]*100)\n",
        "print(popt)"
      ],
      "metadata": {
        "colab": {
          "base_uri": "https://localhost:8080/"
        },
        "id": "OMaH_K-Br_Ks",
        "outputId": "0212f62b-9b9a-4eaa-c481-4924ebba0721"
      },
      "execution_count": null,
      "outputs": [
        {
          "output_type": "stream",
          "name": "stdout",
          "text": [
            "[0.17301356 0.84204457]\n"
          ]
        }
      ]
    },
    {
      "cell_type": "code",
      "source": [
        "f(a, 0.17301356, 0.84204457)"
      ],
      "metadata": {
        "colab": {
          "base_uri": "https://localhost:8080/"
        },
        "id": "anFisHMHk-QY",
        "outputId": "843f691c-d7ec-466d-c945-d98e36c0dfdc"
      },
      "execution_count": null,
      "outputs": [
        {
          "output_type": "execute_result",
          "data": {
            "text/plain": [
              "17.161611804163904"
            ]
          },
          "metadata": {},
          "execution_count": 159
        }
      ]
    }
  ]
}